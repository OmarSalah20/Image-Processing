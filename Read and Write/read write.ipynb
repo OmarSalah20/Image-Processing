{
 "cells": [
  {
   "cell_type": "code",
   "execution_count": 4,
   "metadata": {},
   "outputs": [],
   "source": [
    "import cv2"
   ]
  },
  {
   "cell_type": "markdown",
   "metadata": {},
   "source": [
    "# Image Reading"
   ]
  },
  {
   "cell_type": "code",
   "execution_count": 5,
   "metadata": {},
   "outputs": [],
   "source": [
    "img = cv2.imread(\"5182.jpg\",0) # 0 -> gray \n",
    "                               # 1 -> colored\n",
    "cv2.imshow(\"first image\",img)\n",
    "cv2.waitKey(0)\n",
    "cv2.destroyAllWindows()"
   ]
  },
  {
   "cell_type": "markdown",
   "metadata": {},
   "source": [
    "# Video"
   ]
  },
  {
   "cell_type": "code",
   "execution_count": 6,
   "metadata": {},
   "outputs": [],
   "source": [
    "cap = cv2.VideoCapture(0)\n",
    "fourcc = cv2.VideoWriter_fourcc(*'XVID')\n",
    "out = cv2.VideoWriter('output.mp4',fourcc,20.0,(640,480))\n",
    "\n",
    "\n",
    "cap.set(3,1024)\n",
    "cap.set(4,720)\n",
    "\n",
    "while(cap.isOpened()):\n",
    "    ret,frame = cap.read()\n",
    "    if ret:\n",
    "        out.write(frame)\n",
    "        gray = cv2.cvtColor(frame,cv2.COLOR_BGR2GRAY)\n",
    "        cv2.imshow('frame',frame)\n",
    "        if cv2.waitKey(1)==ord('q'):\n",
    "            break\n",
    "    else:\n",
    "        break\n",
    "cap.release()\n",
    "out.release()\n",
    "cv2.destroyAllWindows()    "
   ]
  },
  {
   "cell_type": "markdown",
   "metadata": {},
   "source": [
    "<font size = \"1\">    \n",
    "<br>0 ->CV_CAP_PROP_POS_MSEC Current position of the video file in milliseconds.\n",
    "<br>1 -> CV_CAP_PROP_POS_FRAMES 0-based index of the frame to be decoded/captured next.\n",
    "<br>2 ->CV_CAP_PROP_POS_AVI_RATIO Relative position of the video file\n",
    "<br>3 ->CV_CAP_PROP_FRAME_WIDTH Width of the frames in the video stream.\n",
    "<br>4 ->CV_CAP_PROP_FRAME_HEIGHT Height of the frames in the video stream.\n",
    "<br>5 ->CV_CAP_PROP_FPS Frame rate.\n",
    "<br>6 ->CV_CAP_PROP_FOURCC 4-character code of codec.\n",
    "<br>7 ->CV_CAP_PROP_FRAME_COUNT Number of frames in the video file.\n",
    "<br>8 ->CV_CAP_PROP_FORMAT Format of the Mat objects returned by retrieve() .\n",
    "<br>9 ->CV_CAP_PROP_MODE Backend-specific value indicating the current capture mode.\n",
    "<br>10 ->CV_CAP_PROP_BRIGHTNESS Brightness of the image (only for cameras).\n",
    "<br>11 ->CV_CAP_PROP_CONTRAST Contrast of the image (only for cameras).\n",
    "<br>12 ->CV_CAP_PROP_SATURATION Saturation of the image (only for cameras).\n",
    "<br>13 ->CV_CAP_PROP_HUE Hue of the image (only for cameras).\n",
    "<br>14 ->CV_CAP_PROP_GAIN Gain of the image (only for cameras).\n",
    "<br>15 ->CV_CAP_PROP_EXPOSURE Exposure (only for cameras).\n",
    "<br>16 ->CV_CAP_PROP_CONVERT_RGB Boolean flags indicating whether images should be converted to RGB.\n",
    "<br>17 ->CV_CAP_PROP_WHITE_BALANCE Currently unsupported\n",
    "<br>18 ->CV_CAP_PROP_RECTIFICATION Rectification flag for stereo cameras (note: only supported by DC1394 v 2.x backend currently)</font>"
   ]
  }
 ],
 "metadata": {
  "kernelspec": {
   "display_name": "Python 3",
   "language": "python",
   "name": "python3"
  },
  "language_info": {
   "codemirror_mode": {
    "name": "ipython",
    "version": 3
   },
   "file_extension": ".py",
   "mimetype": "text/x-python",
   "name": "python",
   "nbconvert_exporter": "python",
   "pygments_lexer": "ipython3",
   "version": "3.8.5"
  }
 },
 "nbformat": 4,
 "nbformat_minor": 4
}
