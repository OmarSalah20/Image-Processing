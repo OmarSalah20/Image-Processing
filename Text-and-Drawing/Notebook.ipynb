{
 "cells": [
  {
   "cell_type": "code",
   "execution_count": 1,
   "metadata": {},
   "outputs": [],
   "source": [
    "import numpy as np\n",
    "import cv2\n",
    "import datetime"
   ]
  },
  {
   "cell_type": "markdown",
   "metadata": {},
   "source": [
    "## Drawing Shapes"
   ]
  },
  {
   "cell_type": "code",
   "execution_count": 2,
   "metadata": {},
   "outputs": [],
   "source": [
    "img = np.zeros([512,512,3],np.uint8)\n",
    "\n",
    "img = cv2.line(img,(0,0),(256,256),(0,255,0),10)\n",
    "img = cv2.arrowedLine(img,(0,255),(256,256),(255,0,0),10)\n",
    "img = cv2.rectangle(img,(384,0),(510,128),(0,0,255),-1)\n",
    "img = cv2.circle(img,(447,63),63,(0,255,0),1)\n",
    "img = cv2.ellipse(img,(256,300),(100,100),0,0,360,(0,255,0),20)\n",
    "pts= np.array([[10,5],[20,30],[70,20],[50,10]],np.int32)\n",
    "img = cv2.polylines(img,[pts],True,(0,255,255),10)\n",
    "\n",
    "cv2.imshow('image',img)\n",
    "cv2.waitKey(0)\n",
    "cv2.destroyAllWindows()"
   ]
  },
  {
   "cell_type": "markdown",
   "metadata": {},
   "source": [
    "## Adding Text"
   ]
  },
  {
   "cell_type": "code",
   "execution_count": 3,
   "metadata": {},
   "outputs": [],
   "source": [
    "cap = cv2.VideoCapture(0)\n",
    "while(cap.isOpened()):\n",
    "    ret,frame = cap.read()\n",
    "    if ret:\n",
    "        font = cv2.FONT_HERSHEY_SIMPLEX\n",
    "        text = 'width: '+str(cap.get(3))+'height: '+str(cap.get(4))\n",
    "        datet = str(datetime.datetime.now())\n",
    "        frame = cv2.putText(frame,text,(10,50),font,0.5,(0,255,0),1)\n",
    "        frame = cv2.putText(frame,text,(10,100),font,0.5,(0,255,0),1)\n",
    "        cv2.imshow('frame',frame)\n",
    "        if cv2.waitKey(1)==ord('q'):\n",
    "            break\n",
    "    else:\n",
    "        break\n",
    "cap.release()\n",
    "cv2.destroyAllWindows()"
   ]
  }
 ],
 "metadata": {
  "kernelspec": {
   "display_name": "Python 3",
   "language": "python",
   "name": "python3"
  },
  "language_info": {
   "codemirror_mode": {
    "name": "ipython",
    "version": 3
   },
   "file_extension": ".py",
   "mimetype": "text/x-python",
   "name": "python",
   "nbconvert_exporter": "python",
   "pygments_lexer": "ipython3",
   "version": "3.8.5"
  }
 },
 "nbformat": 4,
 "nbformat_minor": 4
}
